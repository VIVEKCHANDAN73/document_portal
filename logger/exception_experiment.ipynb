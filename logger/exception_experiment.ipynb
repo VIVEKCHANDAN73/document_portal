{
 "cells": [
  {
   "cell_type": "code",
   "execution_count": 3,
   "id": "413ca19e",
   "metadata": {},
   "outputs": [],
   "source": [
    "import sys\n",
    "import traceback"
   ]
  },
  {
   "cell_type": "code",
   "execution_count": 5,
   "id": "34353f94",
   "metadata": {},
   "outputs": [
    {
     "ename": "DocumentPortalException",
     "evalue": "\n    Error in [C:\\Users\\lenovo\\AppData\\Local\\Temp\\ipykernel_12244\\2395377392.py] at line [19]\n    Message: division by zero\n    Traceback:\n    Traceback (most recent call last):\n  File \"C:\\Users\\lenovo\\AppData\\Local\\Temp\\ipykernel_12244\\2395377392.py\", line 19, in <module>\n    a=1/0\nZeroDivisionError: division by zero\n    \n    ",
     "output_type": "error",
     "traceback": [
      "\u001b[1;31m---------------------------------------------------------------------------\u001b[0m",
      "\u001b[1;31mZeroDivisionError\u001b[0m                         Traceback (most recent call last)",
      "Cell \u001b[1;32mIn[5], line 19\u001b[0m\n\u001b[0;32m     18\u001b[0m \u001b[38;5;28;01mtry\u001b[39;00m:\n\u001b[1;32m---> 19\u001b[0m     a\u001b[38;5;241m=\u001b[39m\u001b[38;5;241;43m1\u001b[39;49m\u001b[38;5;241;43m/\u001b[39;49m\u001b[38;5;241;43m0\u001b[39;49m\n\u001b[0;32m     20\u001b[0m \u001b[38;5;28;01mexcept\u001b[39;00m \u001b[38;5;167;01mException\u001b[39;00m \u001b[38;5;28;01mas\u001b[39;00m e:\n",
      "\u001b[1;31mZeroDivisionError\u001b[0m: division by zero",
      "\nDuring handling of the above exception, another exception occurred:\n",
      "\u001b[1;31mDocumentPortalException\u001b[0m                   Traceback (most recent call last)",
      "Cell \u001b[1;32mIn[5], line 22\u001b[0m\n\u001b[0;32m     20\u001b[0m \u001b[38;5;28;01mexcept\u001b[39;00m \u001b[38;5;167;01mException\u001b[39;00m \u001b[38;5;28;01mas\u001b[39;00m e:\n\u001b[0;32m     21\u001b[0m     app_exc\u001b[38;5;241m=\u001b[39mDocumentPortalException(e,sys)\n\u001b[1;32m---> 22\u001b[0m     \u001b[38;5;28;01mraise\u001b[39;00m app_exc\n",
      "\u001b[1;31mDocumentPortalException\u001b[0m: \n    Error in [C:\\Users\\lenovo\\AppData\\Local\\Temp\\ipykernel_12244\\2395377392.py] at line [19]\n    Message: division by zero\n    Traceback:\n    Traceback (most recent call last):\n  File \"C:\\Users\\lenovo\\AppData\\Local\\Temp\\ipykernel_12244\\2395377392.py\", line 19, in <module>\n    a=1/0\nZeroDivisionError: division by zero\n    \n    "
     ]
    }
   ],
   "source": [
    "class DocumentPortalException(Exception):\n",
    "    def __init__(self, error_message:str, error_details:sys):\n",
    "        _,_,exc_tb = error_details.exc_info()\n",
    "        self.file_name=exc_tb.tb_frame.f_code.co_filename\n",
    "        self.line_no=exc_tb.tb_lineno\n",
    "        self.error_message=str(error_message)\n",
    "        self.traceback_str=''.join(traceback.format_exception(*error_details.exc_info()))\n",
    "        \n",
    "    def __str__(self):\n",
    "        return f\"\"\"\n",
    "    Error in [{self.file_name}] at line [{self.line_no}]\n",
    "    Message: {self.error_message}\n",
    "    Traceback:\n",
    "    {self.traceback_str}    \n",
    "    \"\"\"\n",
    "    \n",
    "if __name__==\"__main__\":\n",
    "    try:\n",
    "        a=1/0\n",
    "    except Exception as e:\n",
    "        app_exc=DocumentPortalException(e,sys)\n",
    "        raise app_exc"
   ]
  },
  {
   "cell_type": "code",
   "execution_count": 6,
   "id": "0417bdd0",
   "metadata": {},
   "outputs": [],
   "source": [
    "import sys"
   ]
  },
  {
   "cell_type": "code",
   "execution_count": 8,
   "id": "c33867a2",
   "metadata": {},
   "outputs": [
    {
     "data": {
      "text/plain": [
       "(None, None, None)"
      ]
     },
     "execution_count": 8,
     "metadata": {},
     "output_type": "execute_result"
    }
   ],
   "source": [
    "t=sys.exc_info()\n",
    "t"
   ]
  },
  {
   "cell_type": "code",
   "execution_count": null,
   "id": "8b59312b",
   "metadata": {},
   "outputs": [],
   "source": []
  }
 ],
 "metadata": {
  "kernelspec": {
   "display_name": "Python 3",
   "language": "python",
   "name": "python3"
  },
  "language_info": {
   "codemirror_mode": {
    "name": "ipython",
    "version": 3
   },
   "file_extension": ".py",
   "mimetype": "text/x-python",
   "name": "python",
   "nbconvert_exporter": "python",
   "pygments_lexer": "ipython3",
   "version": "3.10.18"
  }
 },
 "nbformat": 4,
 "nbformat_minor": 5
}
